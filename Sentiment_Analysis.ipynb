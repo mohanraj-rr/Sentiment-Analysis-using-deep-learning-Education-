{
  "cells": [
    {
      "cell_type": "markdown",
      "source": [
        "# Required Libraries and Packages for Sentiment Analysis using BERT Model\n",
        "\n"
      ],
      "metadata": {
        "id": "agxeFtN6NIqR"
      }
    },
    {
      "cell_type": "code",
      "execution_count": null,
      "metadata": {
        "colab": {
          "base_uri": "https://localhost:8080/",
          "height": 1000
        },
        "id": "UOcFpUffwfXd",
        "outputId": "a49b60e8-df2f-4601-e244-133eaed9596d"
      },
      "outputs": [
        {
          "name": "stdout",
          "output_type": "stream",
          "text": [
            "Collecting keras_nlp\n",
            "  Downloading keras_nlp-0.6.3-py3-none-any.whl (584 kB)\n",
            "\u001b[2K     \u001b[90m━━━━━━━━━━━━━━━━━━━━━━━━━━━━━━━━━━━━━━━━\u001b[0m \u001b[32m584.5/584.5 kB\u001b[0m \u001b[31m7.7 MB/s\u001b[0m eta \u001b[36m0:00:00\u001b[0m\n",
            "\u001b[?25hCollecting keras-core (from keras_nlp)\n",
            "  Downloading keras_core-0.1.7-py3-none-any.whl (950 kB)\n",
            "\u001b[2K     \u001b[90m━━━━━━━━━━━━━━━━━━━━━━━━━━━━━━━━━━━━━━━━\u001b[0m \u001b[32m950.8/950.8 kB\u001b[0m \u001b[31m60.2 MB/s\u001b[0m eta \u001b[36m0:00:00\u001b[0m\n",
            "\u001b[?25hRequirement already satisfied: absl-py in /usr/local/lib/python3.10/dist-packages (from keras_nlp) (1.4.0)\n",
            "Requirement already satisfied: numpy in /usr/local/lib/python3.10/dist-packages (from keras_nlp) (1.23.5)\n",
            "Requirement already satisfied: packaging in /usr/local/lib/python3.10/dist-packages (from keras_nlp) (23.2)\n",
            "Requirement already satisfied: regex in /usr/local/lib/python3.10/dist-packages (from keras_nlp) (2023.6.3)\n",
            "Requirement already satisfied: rich in /usr/local/lib/python3.10/dist-packages (from keras_nlp) (13.6.0)\n",
            "Requirement already satisfied: dm-tree in /usr/local/lib/python3.10/dist-packages (from keras_nlp) (0.1.8)\n",
            "Collecting tensorflow-text (from keras_nlp)\n",
            "  Downloading tensorflow_text-2.15.0-cp310-cp310-manylinux_2_17_x86_64.manylinux2014_x86_64.whl (5.2 MB)\n",
            "\u001b[2K     \u001b[90m━━━━━━━━━━━━━━━━━━━━━━━━━━━━━━━━━━━━━━━━\u001b[0m \u001b[32m5.2/5.2 MB\u001b[0m \u001b[31m54.9 MB/s\u001b[0m eta \u001b[36m0:00:00\u001b[0m\n",
            "\u001b[?25hCollecting namex (from keras-core->keras_nlp)\n",
            "  Downloading namex-0.0.7-py3-none-any.whl (5.8 kB)\n",
            "Requirement already satisfied: h5py in /usr/local/lib/python3.10/dist-packages (from keras-core->keras_nlp) (3.9.0)\n",
            "Requirement already satisfied: markdown-it-py>=2.2.0 in /usr/local/lib/python3.10/dist-packages (from rich->keras_nlp) (3.0.0)\n",
            "Requirement already satisfied: pygments<3.0.0,>=2.13.0 in /usr/local/lib/python3.10/dist-packages (from rich->keras_nlp) (2.16.1)\n",
            "Requirement already satisfied: tensorflow-hub>=0.13.0 in /usr/local/lib/python3.10/dist-packages (from tensorflow-text->keras_nlp) (0.15.0)\n",
            "Collecting tensorflow<2.16,>=2.15.0 (from tensorflow-text->keras_nlp)\n",
            "  Downloading tensorflow-2.15.0-cp310-cp310-manylinux_2_17_x86_64.manylinux2014_x86_64.whl (475.2 MB)\n",
            "\u001b[2K     \u001b[90m━━━━━━━━━━━━━━━━━━━━━━━━━━━━━━━━━━━━━━━━\u001b[0m \u001b[32m475.2/475.2 MB\u001b[0m \u001b[31m2.4 MB/s\u001b[0m eta \u001b[36m0:00:00\u001b[0m\n",
            "\u001b[?25hRequirement already satisfied: mdurl~=0.1 in /usr/local/lib/python3.10/dist-packages (from markdown-it-py>=2.2.0->rich->keras_nlp) (0.1.2)\n",
            "Requirement already satisfied: astunparse>=1.6.0 in /usr/local/lib/python3.10/dist-packages (from tensorflow<2.16,>=2.15.0->tensorflow-text->keras_nlp) (1.6.3)\n",
            "Requirement already satisfied: flatbuffers>=23.5.26 in /usr/local/lib/python3.10/dist-packages (from tensorflow<2.16,>=2.15.0->tensorflow-text->keras_nlp) (23.5.26)\n",
            "Requirement already satisfied: gast!=0.5.0,!=0.5.1,!=0.5.2,>=0.2.1 in /usr/local/lib/python3.10/dist-packages (from tensorflow<2.16,>=2.15.0->tensorflow-text->keras_nlp) (0.5.4)\n",
            "Requirement already satisfied: google-pasta>=0.1.1 in /usr/local/lib/python3.10/dist-packages (from tensorflow<2.16,>=2.15.0->tensorflow-text->keras_nlp) (0.2.0)\n",
            "Requirement already satisfied: libclang>=13.0.0 in /usr/local/lib/python3.10/dist-packages (from tensorflow<2.16,>=2.15.0->tensorflow-text->keras_nlp) (16.0.6)\n",
            "Requirement already satisfied: ml-dtypes~=0.2.0 in /usr/local/lib/python3.10/dist-packages (from tensorflow<2.16,>=2.15.0->tensorflow-text->keras_nlp) (0.2.0)\n",
            "Requirement already satisfied: opt-einsum>=2.3.2 in /usr/local/lib/python3.10/dist-packages (from tensorflow<2.16,>=2.15.0->tensorflow-text->keras_nlp) (3.3.0)\n",
            "Requirement already satisfied: protobuf!=4.21.0,!=4.21.1,!=4.21.2,!=4.21.3,!=4.21.4,!=4.21.5,<5.0.0dev,>=3.20.3 in /usr/local/lib/python3.10/dist-packages (from tensorflow<2.16,>=2.15.0->tensorflow-text->keras_nlp) (3.20.3)\n",
            "Requirement already satisfied: setuptools in /usr/local/lib/python3.10/dist-packages (from tensorflow<2.16,>=2.15.0->tensorflow-text->keras_nlp) (67.7.2)\n",
            "Requirement already satisfied: six>=1.12.0 in /usr/local/lib/python3.10/dist-packages (from tensorflow<2.16,>=2.15.0->tensorflow-text->keras_nlp) (1.16.0)\n",
            "Requirement already satisfied: termcolor>=1.1.0 in /usr/local/lib/python3.10/dist-packages (from tensorflow<2.16,>=2.15.0->tensorflow-text->keras_nlp) (2.3.0)\n",
            "Requirement already satisfied: typing-extensions>=3.6.6 in /usr/local/lib/python3.10/dist-packages (from tensorflow<2.16,>=2.15.0->tensorflow-text->keras_nlp) (4.5.0)\n",
            "Requirement already satisfied: wrapt<1.15,>=1.11.0 in /usr/local/lib/python3.10/dist-packages (from tensorflow<2.16,>=2.15.0->tensorflow-text->keras_nlp) (1.14.1)\n",
            "Requirement already satisfied: tensorflow-io-gcs-filesystem>=0.23.1 in /usr/local/lib/python3.10/dist-packages (from tensorflow<2.16,>=2.15.0->tensorflow-text->keras_nlp) (0.34.0)\n",
            "Requirement already satisfied: grpcio<2.0,>=1.24.3 in /usr/local/lib/python3.10/dist-packages (from tensorflow<2.16,>=2.15.0->tensorflow-text->keras_nlp) (1.59.2)\n",
            "Collecting tensorboard<2.16,>=2.15 (from tensorflow<2.16,>=2.15.0->tensorflow-text->keras_nlp)\n",
            "  Downloading tensorboard-2.15.1-py3-none-any.whl (5.5 MB)\n",
            "\u001b[2K     \u001b[90m━━━━━━━━━━━━━━━━━━━━━━━━━━━━━━━━━━━━━━━━\u001b[0m \u001b[32m5.5/5.5 MB\u001b[0m \u001b[31m53.0 MB/s\u001b[0m eta \u001b[36m0:00:00\u001b[0m\n",
            "\u001b[?25hCollecting tensorflow-estimator<2.16,>=2.15.0 (from tensorflow<2.16,>=2.15.0->tensorflow-text->keras_nlp)\n",
            "  Downloading tensorflow_estimator-2.15.0-py2.py3-none-any.whl (441 kB)\n",
            "\u001b[2K     \u001b[90m━━━━━━━━━━━━━━━━━━━━━━━━━━━━━━━━━━━━━━━━\u001b[0m \u001b[32m442.0/442.0 kB\u001b[0m \u001b[31m35.3 MB/s\u001b[0m eta \u001b[36m0:00:00\u001b[0m\n",
            "\u001b[?25hCollecting keras<2.16,>=2.15.0 (from tensorflow<2.16,>=2.15.0->tensorflow-text->keras_nlp)\n",
            "  Downloading keras-2.15.0-py3-none-any.whl (1.7 MB)\n",
            "\u001b[2K     \u001b[90m━━━━━━━━━━━━━━━━━━━━━━━━━━━━━━━━━━━━━━━━\u001b[0m \u001b[32m1.7/1.7 MB\u001b[0m \u001b[31m75.8 MB/s\u001b[0m eta \u001b[36m0:00:00\u001b[0m\n",
            "\u001b[?25hRequirement already satisfied: wheel<1.0,>=0.23.0 in /usr/local/lib/python3.10/dist-packages (from astunparse>=1.6.0->tensorflow<2.16,>=2.15.0->tensorflow-text->keras_nlp) (0.41.3)\n",
            "Requirement already satisfied: google-auth<3,>=1.6.3 in /usr/local/lib/python3.10/dist-packages (from tensorboard<2.16,>=2.15->tensorflow<2.16,>=2.15.0->tensorflow-text->keras_nlp) (2.17.3)\n",
            "Requirement already satisfied: google-auth-oauthlib<2,>=0.5 in /usr/local/lib/python3.10/dist-packages (from tensorboard<2.16,>=2.15->tensorflow<2.16,>=2.15.0->tensorflow-text->keras_nlp) (1.0.0)\n",
            "Requirement already satisfied: markdown>=2.6.8 in /usr/local/lib/python3.10/dist-packages (from tensorboard<2.16,>=2.15->tensorflow<2.16,>=2.15.0->tensorflow-text->keras_nlp) (3.5.1)\n",
            "Requirement already satisfied: requests<3,>=2.21.0 in /usr/local/lib/python3.10/dist-packages (from tensorboard<2.16,>=2.15->tensorflow<2.16,>=2.15.0->tensorflow-text->keras_nlp) (2.31.0)\n",
            "Requirement already satisfied: tensorboard-data-server<0.8.0,>=0.7.0 in /usr/local/lib/python3.10/dist-packages (from tensorboard<2.16,>=2.15->tensorflow<2.16,>=2.15.0->tensorflow-text->keras_nlp) (0.7.2)\n",
            "Requirement already satisfied: werkzeug>=1.0.1 in /usr/local/lib/python3.10/dist-packages (from tensorboard<2.16,>=2.15->tensorflow<2.16,>=2.15.0->tensorflow-text->keras_nlp) (3.0.1)\n",
            "Requirement already satisfied: cachetools<6.0,>=2.0.0 in /usr/local/lib/python3.10/dist-packages (from google-auth<3,>=1.6.3->tensorboard<2.16,>=2.15->tensorflow<2.16,>=2.15.0->tensorflow-text->keras_nlp) (5.3.2)\n",
            "Requirement already satisfied: pyasn1-modules>=0.2.1 in /usr/local/lib/python3.10/dist-packages (from google-auth<3,>=1.6.3->tensorboard<2.16,>=2.15->tensorflow<2.16,>=2.15.0->tensorflow-text->keras_nlp) (0.3.0)\n",
            "Requirement already satisfied: rsa<5,>=3.1.4 in /usr/local/lib/python3.10/dist-packages (from google-auth<3,>=1.6.3->tensorboard<2.16,>=2.15->tensorflow<2.16,>=2.15.0->tensorflow-text->keras_nlp) (4.9)\n",
            "Requirement already satisfied: requests-oauthlib>=0.7.0 in /usr/local/lib/python3.10/dist-packages (from google-auth-oauthlib<2,>=0.5->tensorboard<2.16,>=2.15->tensorflow<2.16,>=2.15.0->tensorflow-text->keras_nlp) (1.3.1)\n",
            "Requirement already satisfied: charset-normalizer<4,>=2 in /usr/local/lib/python3.10/dist-packages (from requests<3,>=2.21.0->tensorboard<2.16,>=2.15->tensorflow<2.16,>=2.15.0->tensorflow-text->keras_nlp) (3.3.2)\n",
            "Requirement already satisfied: idna<4,>=2.5 in /usr/local/lib/python3.10/dist-packages (from requests<3,>=2.21.0->tensorboard<2.16,>=2.15->tensorflow<2.16,>=2.15.0->tensorflow-text->keras_nlp) (3.4)\n",
            "Requirement already satisfied: urllib3<3,>=1.21.1 in /usr/local/lib/python3.10/dist-packages (from requests<3,>=2.21.0->tensorboard<2.16,>=2.15->tensorflow<2.16,>=2.15.0->tensorflow-text->keras_nlp) (2.0.7)\n",
            "Requirement already satisfied: certifi>=2017.4.17 in /usr/local/lib/python3.10/dist-packages (from requests<3,>=2.21.0->tensorboard<2.16,>=2.15->tensorflow<2.16,>=2.15.0->tensorflow-text->keras_nlp) (2023.7.22)\n",
            "Requirement already satisfied: MarkupSafe>=2.1.1 in /usr/local/lib/python3.10/dist-packages (from werkzeug>=1.0.1->tensorboard<2.16,>=2.15->tensorflow<2.16,>=2.15.0->tensorflow-text->keras_nlp) (2.1.3)\n",
            "Requirement already satisfied: pyasn1<0.6.0,>=0.4.6 in /usr/local/lib/python3.10/dist-packages (from pyasn1-modules>=0.2.1->google-auth<3,>=1.6.3->tensorboard<2.16,>=2.15->tensorflow<2.16,>=2.15.0->tensorflow-text->keras_nlp) (0.5.0)\n",
            "Requirement already satisfied: oauthlib>=3.0.0 in /usr/local/lib/python3.10/dist-packages (from requests-oauthlib>=0.7.0->google-auth-oauthlib<2,>=0.5->tensorboard<2.16,>=2.15->tensorflow<2.16,>=2.15.0->tensorflow-text->keras_nlp) (3.2.2)\n",
            "Installing collected packages: namex, tensorflow-estimator, keras, keras-core, tensorboard, tensorflow, tensorflow-text, keras_nlp\n",
            "  Attempting uninstall: tensorflow-estimator\n",
            "    Found existing installation: tensorflow-estimator 2.14.0\n",
            "    Uninstalling tensorflow-estimator-2.14.0:\n",
            "      Successfully uninstalled tensorflow-estimator-2.14.0\n",
            "  Attempting uninstall: keras\n",
            "    Found existing installation: keras 2.14.0\n",
            "    Uninstalling keras-2.14.0:\n",
            "      Successfully uninstalled keras-2.14.0\n",
            "  Attempting uninstall: tensorboard\n",
            "    Found existing installation: tensorboard 2.14.1\n",
            "    Uninstalling tensorboard-2.14.1:\n",
            "      Successfully uninstalled tensorboard-2.14.1\n",
            "  Attempting uninstall: tensorflow\n",
            "    Found existing installation: tensorflow 2.14.0\n",
            "    Uninstalling tensorflow-2.14.0:\n",
            "      Successfully uninstalled tensorflow-2.14.0\n",
            "Successfully installed keras-2.15.0 keras-core-0.1.7 keras_nlp-0.6.3 namex-0.0.7 tensorboard-2.15.1 tensorflow-2.15.0 tensorflow-estimator-2.15.0 tensorflow-text-2.15.0\n"
          ]
        },
        {
          "data": {
            "application/vnd.colab-display-data+json": {
              "pip_warning": {
                "packages": [
                  "keras",
                  "tensorboard",
                  "tensorflow"
                ]
              }
            }
          },
          "metadata": {},
          "output_type": "display_data"
        }
      ],
      "source": [
        "!pip install keras_nlp"
      ]
    },
    {
      "cell_type": "code",
      "execution_count": null,
      "metadata": {
        "colab": {
          "base_uri": "https://localhost:8080/"
        },
        "id": "RHFCVxUNw-ds",
        "outputId": "a4ddcece-7cfd-405c-86ca-1d57948f09fd"
      },
      "outputs": [
        {
          "name": "stdout",
          "output_type": "stream",
          "text": [
            "Collecting transformers\n",
            "  Downloading transformers-4.35.2-py3-none-any.whl (7.9 MB)\n",
            "\u001b[2K     \u001b[90m━━━━━━━━━━━━━━━━━━━━━━━━━━━━━━━━━━━━━━━━\u001b[0m \u001b[32m7.9/7.9 MB\u001b[0m \u001b[31m38.6 MB/s\u001b[0m eta \u001b[36m0:00:00\u001b[0m\n",
            "\u001b[?25hRequirement already satisfied: filelock in /usr/local/lib/python3.10/dist-packages (from transformers) (3.13.1)\n",
            "Collecting huggingface-hub<1.0,>=0.16.4 (from transformers)\n",
            "  Downloading huggingface_hub-0.19.4-py3-none-any.whl (311 kB)\n",
            "\u001b[2K     \u001b[90m━━━━━━━━━━━━━━━━━━━━━━━━━━━━━━━━━━━━━━━━\u001b[0m \u001b[32m311.7/311.7 kB\u001b[0m \u001b[31m29.1 MB/s\u001b[0m eta \u001b[36m0:00:00\u001b[0m\n",
            "\u001b[?25hRequirement already satisfied: numpy>=1.17 in /usr/local/lib/python3.10/dist-packages (from transformers) (1.23.5)\n",
            "Requirement already satisfied: packaging>=20.0 in /usr/local/lib/python3.10/dist-packages (from transformers) (23.2)\n",
            "Requirement already satisfied: pyyaml>=5.1 in /usr/local/lib/python3.10/dist-packages (from transformers) (6.0.1)\n",
            "Requirement already satisfied: regex!=2019.12.17 in /usr/local/lib/python3.10/dist-packages (from transformers) (2023.6.3)\n",
            "Requirement already satisfied: requests in /usr/local/lib/python3.10/dist-packages (from transformers) (2.31.0)\n",
            "Collecting tokenizers<0.19,>=0.14 (from transformers)\n",
            "  Downloading tokenizers-0.15.0-cp310-cp310-manylinux_2_17_x86_64.manylinux2014_x86_64.whl (3.8 MB)\n",
            "\u001b[2K     \u001b[90m━━━━━━━━━━━━━━━━━━━━━━━━━━━━━━━━━━━━━━━━\u001b[0m \u001b[32m3.8/3.8 MB\u001b[0m \u001b[31m62.0 MB/s\u001b[0m eta \u001b[36m0:00:00\u001b[0m\n",
            "\u001b[?25hCollecting safetensors>=0.3.1 (from transformers)\n",
            "  Downloading safetensors-0.4.0-cp310-cp310-manylinux_2_17_x86_64.manylinux2014_x86_64.whl (1.3 MB)\n",
            "\u001b[2K     \u001b[90m━━━━━━━━━━━━━━━━━━━━━━━━━━━━━━━━━━━━━━━━\u001b[0m \u001b[32m1.3/1.3 MB\u001b[0m \u001b[31m81.6 MB/s\u001b[0m eta \u001b[36m0:00:00\u001b[0m\n",
            "\u001b[?25hRequirement already satisfied: tqdm>=4.27 in /usr/local/lib/python3.10/dist-packages (from transformers) (4.66.1)\n",
            "Requirement already satisfied: fsspec>=2023.5.0 in /usr/local/lib/python3.10/dist-packages (from huggingface-hub<1.0,>=0.16.4->transformers) (2023.6.0)\n",
            "Requirement already satisfied: typing-extensions>=3.7.4.3 in /usr/local/lib/python3.10/dist-packages (from huggingface-hub<1.0,>=0.16.4->transformers) (4.5.0)\n",
            "Requirement already satisfied: charset-normalizer<4,>=2 in /usr/local/lib/python3.10/dist-packages (from requests->transformers) (3.3.2)\n",
            "Requirement already satisfied: idna<4,>=2.5 in /usr/local/lib/python3.10/dist-packages (from requests->transformers) (3.4)\n",
            "Requirement already satisfied: urllib3<3,>=1.21.1 in /usr/local/lib/python3.10/dist-packages (from requests->transformers) (2.0.7)\n",
            "Requirement already satisfied: certifi>=2017.4.17 in /usr/local/lib/python3.10/dist-packages (from requests->transformers) (2023.7.22)\n",
            "Installing collected packages: safetensors, huggingface-hub, tokenizers, transformers\n",
            "Successfully installed huggingface-hub-0.19.4 safetensors-0.4.0 tokenizers-0.15.0 transformers-4.35.2\n"
          ]
        }
      ],
      "source": [
        "!pip install transformers"
      ]
    },
    {
      "cell_type": "code",
      "execution_count": null,
      "metadata": {
        "colab": {
          "base_uri": "https://localhost:8080/"
        },
        "id": "wqktJZkj438S",
        "outputId": "93d9bc33-0354-4767-c1d5-1ca2a731783b"
      },
      "outputs": [
        {
          "name": "stdout",
          "output_type": "stream",
          "text": [
            "Requirement already satisfied: nltk in /usr/local/lib/python3.10/dist-packages (3.8.1)\n",
            "Requirement already satisfied: click in /usr/local/lib/python3.10/dist-packages (from nltk) (8.1.7)\n",
            "Requirement already satisfied: joblib in /usr/local/lib/python3.10/dist-packages (from nltk) (1.3.2)\n",
            "Requirement already satisfied: regex>=2021.8.3 in /usr/local/lib/python3.10/dist-packages (from nltk) (2023.6.3)\n",
            "Requirement already satisfied: tqdm in /usr/local/lib/python3.10/dist-packages (from nltk) (4.66.1)\n"
          ]
        }
      ],
      "source": [
        "!pip install nltk"
      ]
    },
    {
      "cell_type": "code",
      "execution_count": 87,
      "metadata": {
        "id": "0YkiPmdswGz9"
      },
      "outputs": [],
      "source": [
        "# import the required libraries\n",
        "import nltk\n",
        "import pandas as pd\n",
        "import numpy as np\n",
        "import re\n",
        "import zipfile\n",
        "import os\n",
        "import string\n",
        "import tensorflow as tf\n",
        "from tensorflow import keras\n",
        "import keras_nlp\n",
        "from transformers import BertTokenizer, TFBertForSequenceClassification\n",
        "from nltk.corpus import stopwords\n",
        "from nltk.tokenize import word_tokenize\n",
        "from nltk.stem import WordNetLemmatizer\n",
        "from sklearn.model_selection import train_test_split"
      ]
    },
    {
      "cell_type": "code",
      "execution_count": 88,
      "metadata": {
        "colab": {
          "base_uri": "https://localhost:8080/"
        },
        "id": "ZyXjuI0r5wKc",
        "outputId": "1b0cced6-bae5-4f1d-eb18-8e60e3e20652"
      },
      "outputs": [
        {
          "output_type": "stream",
          "name": "stderr",
          "text": [
            "[nltk_data] Downloading package wordnet to /root/nltk_data...\n",
            "[nltk_data]   Package wordnet is already up-to-date!\n"
          ]
        },
        {
          "output_type": "execute_result",
          "data": {
            "text/plain": [
              "True"
            ]
          },
          "metadata": {},
          "execution_count": 88
        }
      ],
      "source": [
        "nltk.download(\"wordnet\")"
      ]
    },
    {
      "cell_type": "markdown",
      "source": [
        "# Import Dataset from Students feedback form (collected in G-form) and analysis the opinion of the students."
      ],
      "metadata": {
        "id": "sBzkVCItNZSg"
      }
    },
    {
      "cell_type": "code",
      "execution_count": 89,
      "metadata": {
        "colab": {
          "base_uri": "https://localhost:8080/",
          "height": 909
        },
        "id": "vO-WQMzrxJk9",
        "outputId": "b2c28cc3-cdaa-4292-d5bb-2ebc324be538"
      },
      "outputs": [
        {
          "output_type": "execute_result",
          "data": {
            "text/plain": [
              "   Course Code                                           Feedback  \\\n",
              "0      CPE 321  The man is too fast in his teaching,he clearly...   \n",
              "1      CPE 331     The class is dry but he really puts in efforts   \n",
              "2      CPE 321  The course is shit and it's a threat to my bra...   \n",
              "3      CPE 321               He no try at all, didn’t teach well.   \n",
              "4      CPE 321                   Ogbeni you sef know as e dae go    \n",
              "..         ...                                                ...   \n",
              "95     GSE 301                                 easy and no wahala   \n",
              "96     CPE 321  terrible way of teaching with the I-dont-care ...   \n",
              "97     CPE 341                                 do not like coding   \n",
              "98     CPE 381   this practical is hard on top 1 unit course haba   \n",
              "99     CPE 321              not the right way to teach, Mr Akanni   \n",
              "\n",
              "   Previous Experience  Gender  Attendance Course Difficulty  \\\n",
              "0                   No    Male     Regular       Challenging   \n",
              "1                  Yes    Male     Regular          Moderate   \n",
              "2                   No    Male     Regular       Challenging   \n",
              "3                   No    Male     Regular       Challenging   \n",
              "4                  Yes    Male  Occasional         Difficult   \n",
              "..                 ...     ...         ...               ...   \n",
              "95                 Yes  Female     Regular              Easy   \n",
              "96                  No  Female   Irregular         Difficult   \n",
              "97                  No    Male   Irregular         Difficult   \n",
              "98                  No  Female     Regular         Difficult   \n",
              "99                  No    Male  Occasional         Difficult   \n",
              "\n",
              "    Study Hours (per week)  Overall Satisfaction Department        Date  \\\n",
              "0                       21                     5        Yes  2023-05-21   \n",
              "1                        7                     8        Yes  2023-05-21   \n",
              "2                        7                     4        Yes  2023-05-21   \n",
              "3                       12                     1        Yes  2023-05-21   \n",
              "4                        0                     0        Yes  2023-05-21   \n",
              "..                     ...                   ...        ...         ...   \n",
              "95                       9                     8        Yes  2023-05-30   \n",
              "96                       4                     0        Yes  2023-05-30   \n",
              "97                       0                     0        Yes  2023-05-30   \n",
              "98                       5                     0        Yes  2023-05-30   \n",
              "99                       3                     0        Yes  2023-05-30   \n",
              "\n",
              "        Time  Hour                                 Processed_Feedback  \\\n",
              "0   03:29:49     3  man fast teachinghe clearly doesnt know teach ...   \n",
              "1   03:39:59     3                        class dry really put effort   \n",
              "2   03:57:54     3     course shit threat brainthe teaching mode poor   \n",
              "3   04:52:08     4                               try didnt teach well   \n",
              "4   05:24:33     5                           ogbeni sef know e dae go   \n",
              "..       ...   ...                                                ...   \n",
              "95  14:56:07    14                                        easy wahala   \n",
              "96  14:57:17    14           terrible way teaching idontcare attitude   \n",
              "97  15:02:16    15                                        like coding   \n",
              "98  15:03:39    15                practical hard top unit course haba   \n",
              "99  15:05:02    15                          right way teach mr akanni   \n",
              "\n",
              "    Char_Count  Word_Count  Sentiment_Scores Sentiments  \n",
              "0           58           9          0.150000   positive  \n",
              "1           27           5          0.066667   positive  \n",
              "2           46           7         -0.300000   negative  \n",
              "3           20           4          0.000000   negative  \n",
              "4           24           6          0.000000   negative  \n",
              "..         ...         ...               ...        ...  \n",
              "95          11           2          0.433333   positive  \n",
              "96          40           5         -1.000000   negative  \n",
              "97          11           2          0.000000   negative  \n",
              "98          35           6          0.104167   positive  \n",
              "99          25           5          0.285714   positive  \n",
              "\n",
              "[100 rows x 17 columns]"
            ],
            "text/html": [
              "\n",
              "  <div id=\"df-c85fecf7-7b8a-471c-afc4-928edfd393b2\" class=\"colab-df-container\">\n",
              "    <div>\n",
              "<style scoped>\n",
              "    .dataframe tbody tr th:only-of-type {\n",
              "        vertical-align: middle;\n",
              "    }\n",
              "\n",
              "    .dataframe tbody tr th {\n",
              "        vertical-align: top;\n",
              "    }\n",
              "\n",
              "    .dataframe thead th {\n",
              "        text-align: right;\n",
              "    }\n",
              "</style>\n",
              "<table border=\"1\" class=\"dataframe\">\n",
              "  <thead>\n",
              "    <tr style=\"text-align: right;\">\n",
              "      <th></th>\n",
              "      <th>Course Code</th>\n",
              "      <th>Feedback</th>\n",
              "      <th>Previous Experience</th>\n",
              "      <th>Gender</th>\n",
              "      <th>Attendance</th>\n",
              "      <th>Course Difficulty</th>\n",
              "      <th>Study Hours (per week)</th>\n",
              "      <th>Overall Satisfaction</th>\n",
              "      <th>Department</th>\n",
              "      <th>Date</th>\n",
              "      <th>Time</th>\n",
              "      <th>Hour</th>\n",
              "      <th>Processed_Feedback</th>\n",
              "      <th>Char_Count</th>\n",
              "      <th>Word_Count</th>\n",
              "      <th>Sentiment_Scores</th>\n",
              "      <th>Sentiments</th>\n",
              "    </tr>\n",
              "  </thead>\n",
              "  <tbody>\n",
              "    <tr>\n",
              "      <th>0</th>\n",
              "      <td>CPE 321</td>\n",
              "      <td>The man is too fast in his teaching,he clearly...</td>\n",
              "      <td>No</td>\n",
              "      <td>Male</td>\n",
              "      <td>Regular</td>\n",
              "      <td>Challenging</td>\n",
              "      <td>21</td>\n",
              "      <td>5</td>\n",
              "      <td>Yes</td>\n",
              "      <td>2023-05-21</td>\n",
              "      <td>03:29:49</td>\n",
              "      <td>3</td>\n",
              "      <td>man fast teachinghe clearly doesnt know teach ...</td>\n",
              "      <td>58</td>\n",
              "      <td>9</td>\n",
              "      <td>0.150000</td>\n",
              "      <td>positive</td>\n",
              "    </tr>\n",
              "    <tr>\n",
              "      <th>1</th>\n",
              "      <td>CPE 331</td>\n",
              "      <td>The class is dry but he really puts in efforts</td>\n",
              "      <td>Yes</td>\n",
              "      <td>Male</td>\n",
              "      <td>Regular</td>\n",
              "      <td>Moderate</td>\n",
              "      <td>7</td>\n",
              "      <td>8</td>\n",
              "      <td>Yes</td>\n",
              "      <td>2023-05-21</td>\n",
              "      <td>03:39:59</td>\n",
              "      <td>3</td>\n",
              "      <td>class dry really put effort</td>\n",
              "      <td>27</td>\n",
              "      <td>5</td>\n",
              "      <td>0.066667</td>\n",
              "      <td>positive</td>\n",
              "    </tr>\n",
              "    <tr>\n",
              "      <th>2</th>\n",
              "      <td>CPE 321</td>\n",
              "      <td>The course is shit and it's a threat to my bra...</td>\n",
              "      <td>No</td>\n",
              "      <td>Male</td>\n",
              "      <td>Regular</td>\n",
              "      <td>Challenging</td>\n",
              "      <td>7</td>\n",
              "      <td>4</td>\n",
              "      <td>Yes</td>\n",
              "      <td>2023-05-21</td>\n",
              "      <td>03:57:54</td>\n",
              "      <td>3</td>\n",
              "      <td>course shit threat brainthe teaching mode poor</td>\n",
              "      <td>46</td>\n",
              "      <td>7</td>\n",
              "      <td>-0.300000</td>\n",
              "      <td>negative</td>\n",
              "    </tr>\n",
              "    <tr>\n",
              "      <th>3</th>\n",
              "      <td>CPE 321</td>\n",
              "      <td>He no try at all, didn’t teach well.</td>\n",
              "      <td>No</td>\n",
              "      <td>Male</td>\n",
              "      <td>Regular</td>\n",
              "      <td>Challenging</td>\n",
              "      <td>12</td>\n",
              "      <td>1</td>\n",
              "      <td>Yes</td>\n",
              "      <td>2023-05-21</td>\n",
              "      <td>04:52:08</td>\n",
              "      <td>4</td>\n",
              "      <td>try didnt teach well</td>\n",
              "      <td>20</td>\n",
              "      <td>4</td>\n",
              "      <td>0.000000</td>\n",
              "      <td>negative</td>\n",
              "    </tr>\n",
              "    <tr>\n",
              "      <th>4</th>\n",
              "      <td>CPE 321</td>\n",
              "      <td>Ogbeni you sef know as e dae go</td>\n",
              "      <td>Yes</td>\n",
              "      <td>Male</td>\n",
              "      <td>Occasional</td>\n",
              "      <td>Difficult</td>\n",
              "      <td>0</td>\n",
              "      <td>0</td>\n",
              "      <td>Yes</td>\n",
              "      <td>2023-05-21</td>\n",
              "      <td>05:24:33</td>\n",
              "      <td>5</td>\n",
              "      <td>ogbeni sef know e dae go</td>\n",
              "      <td>24</td>\n",
              "      <td>6</td>\n",
              "      <td>0.000000</td>\n",
              "      <td>negative</td>\n",
              "    </tr>\n",
              "    <tr>\n",
              "      <th>...</th>\n",
              "      <td>...</td>\n",
              "      <td>...</td>\n",
              "      <td>...</td>\n",
              "      <td>...</td>\n",
              "      <td>...</td>\n",
              "      <td>...</td>\n",
              "      <td>...</td>\n",
              "      <td>...</td>\n",
              "      <td>...</td>\n",
              "      <td>...</td>\n",
              "      <td>...</td>\n",
              "      <td>...</td>\n",
              "      <td>...</td>\n",
              "      <td>...</td>\n",
              "      <td>...</td>\n",
              "      <td>...</td>\n",
              "      <td>...</td>\n",
              "    </tr>\n",
              "    <tr>\n",
              "      <th>95</th>\n",
              "      <td>GSE 301</td>\n",
              "      <td>easy and no wahala</td>\n",
              "      <td>Yes</td>\n",
              "      <td>Female</td>\n",
              "      <td>Regular</td>\n",
              "      <td>Easy</td>\n",
              "      <td>9</td>\n",
              "      <td>8</td>\n",
              "      <td>Yes</td>\n",
              "      <td>2023-05-30</td>\n",
              "      <td>14:56:07</td>\n",
              "      <td>14</td>\n",
              "      <td>easy wahala</td>\n",
              "      <td>11</td>\n",
              "      <td>2</td>\n",
              "      <td>0.433333</td>\n",
              "      <td>positive</td>\n",
              "    </tr>\n",
              "    <tr>\n",
              "      <th>96</th>\n",
              "      <td>CPE 321</td>\n",
              "      <td>terrible way of teaching with the I-dont-care ...</td>\n",
              "      <td>No</td>\n",
              "      <td>Female</td>\n",
              "      <td>Irregular</td>\n",
              "      <td>Difficult</td>\n",
              "      <td>4</td>\n",
              "      <td>0</td>\n",
              "      <td>Yes</td>\n",
              "      <td>2023-05-30</td>\n",
              "      <td>14:57:17</td>\n",
              "      <td>14</td>\n",
              "      <td>terrible way teaching idontcare attitude</td>\n",
              "      <td>40</td>\n",
              "      <td>5</td>\n",
              "      <td>-1.000000</td>\n",
              "      <td>negative</td>\n",
              "    </tr>\n",
              "    <tr>\n",
              "      <th>97</th>\n",
              "      <td>CPE 341</td>\n",
              "      <td>do not like coding</td>\n",
              "      <td>No</td>\n",
              "      <td>Male</td>\n",
              "      <td>Irregular</td>\n",
              "      <td>Difficult</td>\n",
              "      <td>0</td>\n",
              "      <td>0</td>\n",
              "      <td>Yes</td>\n",
              "      <td>2023-05-30</td>\n",
              "      <td>15:02:16</td>\n",
              "      <td>15</td>\n",
              "      <td>like coding</td>\n",
              "      <td>11</td>\n",
              "      <td>2</td>\n",
              "      <td>0.000000</td>\n",
              "      <td>negative</td>\n",
              "    </tr>\n",
              "    <tr>\n",
              "      <th>98</th>\n",
              "      <td>CPE 381</td>\n",
              "      <td>this practical is hard on top 1 unit course haba</td>\n",
              "      <td>No</td>\n",
              "      <td>Female</td>\n",
              "      <td>Regular</td>\n",
              "      <td>Difficult</td>\n",
              "      <td>5</td>\n",
              "      <td>0</td>\n",
              "      <td>Yes</td>\n",
              "      <td>2023-05-30</td>\n",
              "      <td>15:03:39</td>\n",
              "      <td>15</td>\n",
              "      <td>practical hard top unit course haba</td>\n",
              "      <td>35</td>\n",
              "      <td>6</td>\n",
              "      <td>0.104167</td>\n",
              "      <td>positive</td>\n",
              "    </tr>\n",
              "    <tr>\n",
              "      <th>99</th>\n",
              "      <td>CPE 321</td>\n",
              "      <td>not the right way to teach, Mr Akanni</td>\n",
              "      <td>No</td>\n",
              "      <td>Male</td>\n",
              "      <td>Occasional</td>\n",
              "      <td>Difficult</td>\n",
              "      <td>3</td>\n",
              "      <td>0</td>\n",
              "      <td>Yes</td>\n",
              "      <td>2023-05-30</td>\n",
              "      <td>15:05:02</td>\n",
              "      <td>15</td>\n",
              "      <td>right way teach mr akanni</td>\n",
              "      <td>25</td>\n",
              "      <td>5</td>\n",
              "      <td>0.285714</td>\n",
              "      <td>positive</td>\n",
              "    </tr>\n",
              "  </tbody>\n",
              "</table>\n",
              "<p>100 rows × 17 columns</p>\n",
              "</div>\n",
              "    <div class=\"colab-df-buttons\">\n",
              "\n",
              "  <div class=\"colab-df-container\">\n",
              "    <button class=\"colab-df-convert\" onclick=\"convertToInteractive('df-c85fecf7-7b8a-471c-afc4-928edfd393b2')\"\n",
              "            title=\"Convert this dataframe to an interactive table.\"\n",
              "            style=\"display:none;\">\n",
              "\n",
              "  <svg xmlns=\"http://www.w3.org/2000/svg\" height=\"24px\" viewBox=\"0 -960 960 960\">\n",
              "    <path d=\"M120-120v-720h720v720H120Zm60-500h600v-160H180v160Zm220 220h160v-160H400v160Zm0 220h160v-160H400v160ZM180-400h160v-160H180v160Zm440 0h160v-160H620v160ZM180-180h160v-160H180v160Zm440 0h160v-160H620v160Z\"/>\n",
              "  </svg>\n",
              "    </button>\n",
              "\n",
              "  <style>\n",
              "    .colab-df-container {\n",
              "      display:flex;\n",
              "      gap: 12px;\n",
              "    }\n",
              "\n",
              "    .colab-df-convert {\n",
              "      background-color: #E8F0FE;\n",
              "      border: none;\n",
              "      border-radius: 50%;\n",
              "      cursor: pointer;\n",
              "      display: none;\n",
              "      fill: #1967D2;\n",
              "      height: 32px;\n",
              "      padding: 0 0 0 0;\n",
              "      width: 32px;\n",
              "    }\n",
              "\n",
              "    .colab-df-convert:hover {\n",
              "      background-color: #E2EBFA;\n",
              "      box-shadow: 0px 1px 2px rgba(60, 64, 67, 0.3), 0px 1px 3px 1px rgba(60, 64, 67, 0.15);\n",
              "      fill: #174EA6;\n",
              "    }\n",
              "\n",
              "    .colab-df-buttons div {\n",
              "      margin-bottom: 4px;\n",
              "    }\n",
              "\n",
              "    [theme=dark] .colab-df-convert {\n",
              "      background-color: #3B4455;\n",
              "      fill: #D2E3FC;\n",
              "    }\n",
              "\n",
              "    [theme=dark] .colab-df-convert:hover {\n",
              "      background-color: #434B5C;\n",
              "      box-shadow: 0px 1px 3px 1px rgba(0, 0, 0, 0.15);\n",
              "      filter: drop-shadow(0px 1px 2px rgba(0, 0, 0, 0.3));\n",
              "      fill: #FFFFFF;\n",
              "    }\n",
              "  </style>\n",
              "\n",
              "    <script>\n",
              "      const buttonEl =\n",
              "        document.querySelector('#df-c85fecf7-7b8a-471c-afc4-928edfd393b2 button.colab-df-convert');\n",
              "      buttonEl.style.display =\n",
              "        google.colab.kernel.accessAllowed ? 'block' : 'none';\n",
              "\n",
              "      async function convertToInteractive(key) {\n",
              "        const element = document.querySelector('#df-c85fecf7-7b8a-471c-afc4-928edfd393b2');\n",
              "        const dataTable =\n",
              "          await google.colab.kernel.invokeFunction('convertToInteractive',\n",
              "                                                    [key], {});\n",
              "        if (!dataTable) return;\n",
              "\n",
              "        const docLinkHtml = 'Like what you see? Visit the ' +\n",
              "          '<a target=\"_blank\" href=https://colab.research.google.com/notebooks/data_table.ipynb>data table notebook</a>'\n",
              "          + ' to learn more about interactive tables.';\n",
              "        element.innerHTML = '';\n",
              "        dataTable['output_type'] = 'display_data';\n",
              "        await google.colab.output.renderOutput(dataTable, element);\n",
              "        const docLink = document.createElement('div');\n",
              "        docLink.innerHTML = docLinkHtml;\n",
              "        element.appendChild(docLink);\n",
              "      }\n",
              "    </script>\n",
              "  </div>\n",
              "\n",
              "\n",
              "<div id=\"df-0f8dbf04-a909-4c22-9755-6d55b11d8601\">\n",
              "  <button class=\"colab-df-quickchart\" onclick=\"quickchart('df-0f8dbf04-a909-4c22-9755-6d55b11d8601')\"\n",
              "            title=\"Suggest charts\"\n",
              "            style=\"display:none;\">\n",
              "\n",
              "<svg xmlns=\"http://www.w3.org/2000/svg\" height=\"24px\"viewBox=\"0 0 24 24\"\n",
              "     width=\"24px\">\n",
              "    <g>\n",
              "        <path d=\"M19 3H5c-1.1 0-2 .9-2 2v14c0 1.1.9 2 2 2h14c1.1 0 2-.9 2-2V5c0-1.1-.9-2-2-2zM9 17H7v-7h2v7zm4 0h-2V7h2v10zm4 0h-2v-4h2v4z\"/>\n",
              "    </g>\n",
              "</svg>\n",
              "  </button>\n",
              "\n",
              "<style>\n",
              "  .colab-df-quickchart {\n",
              "      --bg-color: #E8F0FE;\n",
              "      --fill-color: #1967D2;\n",
              "      --hover-bg-color: #E2EBFA;\n",
              "      --hover-fill-color: #174EA6;\n",
              "      --disabled-fill-color: #AAA;\n",
              "      --disabled-bg-color: #DDD;\n",
              "  }\n",
              "\n",
              "  [theme=dark] .colab-df-quickchart {\n",
              "      --bg-color: #3B4455;\n",
              "      --fill-color: #D2E3FC;\n",
              "      --hover-bg-color: #434B5C;\n",
              "      --hover-fill-color: #FFFFFF;\n",
              "      --disabled-bg-color: #3B4455;\n",
              "      --disabled-fill-color: #666;\n",
              "  }\n",
              "\n",
              "  .colab-df-quickchart {\n",
              "    background-color: var(--bg-color);\n",
              "    border: none;\n",
              "    border-radius: 50%;\n",
              "    cursor: pointer;\n",
              "    display: none;\n",
              "    fill: var(--fill-color);\n",
              "    height: 32px;\n",
              "    padding: 0;\n",
              "    width: 32px;\n",
              "  }\n",
              "\n",
              "  .colab-df-quickchart:hover {\n",
              "    background-color: var(--hover-bg-color);\n",
              "    box-shadow: 0 1px 2px rgba(60, 64, 67, 0.3), 0 1px 3px 1px rgba(60, 64, 67, 0.15);\n",
              "    fill: var(--button-hover-fill-color);\n",
              "  }\n",
              "\n",
              "  .colab-df-quickchart-complete:disabled,\n",
              "  .colab-df-quickchart-complete:disabled:hover {\n",
              "    background-color: var(--disabled-bg-color);\n",
              "    fill: var(--disabled-fill-color);\n",
              "    box-shadow: none;\n",
              "  }\n",
              "\n",
              "  .colab-df-spinner {\n",
              "    border: 2px solid var(--fill-color);\n",
              "    border-color: transparent;\n",
              "    border-bottom-color: var(--fill-color);\n",
              "    animation:\n",
              "      spin 1s steps(1) infinite;\n",
              "  }\n",
              "\n",
              "  @keyframes spin {\n",
              "    0% {\n",
              "      border-color: transparent;\n",
              "      border-bottom-color: var(--fill-color);\n",
              "      border-left-color: var(--fill-color);\n",
              "    }\n",
              "    20% {\n",
              "      border-color: transparent;\n",
              "      border-left-color: var(--fill-color);\n",
              "      border-top-color: var(--fill-color);\n",
              "    }\n",
              "    30% {\n",
              "      border-color: transparent;\n",
              "      border-left-color: var(--fill-color);\n",
              "      border-top-color: var(--fill-color);\n",
              "      border-right-color: var(--fill-color);\n",
              "    }\n",
              "    40% {\n",
              "      border-color: transparent;\n",
              "      border-right-color: var(--fill-color);\n",
              "      border-top-color: var(--fill-color);\n",
              "    }\n",
              "    60% {\n",
              "      border-color: transparent;\n",
              "      border-right-color: var(--fill-color);\n",
              "    }\n",
              "    80% {\n",
              "      border-color: transparent;\n",
              "      border-right-color: var(--fill-color);\n",
              "      border-bottom-color: var(--fill-color);\n",
              "    }\n",
              "    90% {\n",
              "      border-color: transparent;\n",
              "      border-bottom-color: var(--fill-color);\n",
              "    }\n",
              "  }\n",
              "</style>\n",
              "\n",
              "  <script>\n",
              "    async function quickchart(key) {\n",
              "      const quickchartButtonEl =\n",
              "        document.querySelector('#' + key + ' button');\n",
              "      quickchartButtonEl.disabled = true;  // To prevent multiple clicks.\n",
              "      quickchartButtonEl.classList.add('colab-df-spinner');\n",
              "      try {\n",
              "        const charts = await google.colab.kernel.invokeFunction(\n",
              "            'suggestCharts', [key], {});\n",
              "      } catch (error) {\n",
              "        console.error('Error during call to suggestCharts:', error);\n",
              "      }\n",
              "      quickchartButtonEl.classList.remove('colab-df-spinner');\n",
              "      quickchartButtonEl.classList.add('colab-df-quickchart-complete');\n",
              "    }\n",
              "    (() => {\n",
              "      let quickchartButtonEl =\n",
              "        document.querySelector('#df-0f8dbf04-a909-4c22-9755-6d55b11d8601 button');\n",
              "      quickchartButtonEl.style.display =\n",
              "        google.colab.kernel.accessAllowed ? 'block' : 'none';\n",
              "    })();\n",
              "  </script>\n",
              "</div>\n",
              "    </div>\n",
              "  </div>\n"
            ]
          },
          "metadata": {},
          "execution_count": 89
        }
      ],
      "source": [
        "data = pd.read_csv(\"/content/dataset.csv\")\n",
        "\n",
        "data"
      ]
    },
    {
      "cell_type": "code",
      "execution_count": 90,
      "metadata": {
        "id": "-_GiK1_qxkCJ"
      },
      "outputs": [],
      "source": [
        "data['Sentiments'] = data['Sentiments'].replace({\n",
        "    'negative':0,\n",
        "    'positive':1\n",
        "})"
      ]
    },
    {
      "cell_type": "code",
      "execution_count": 91,
      "metadata": {
        "colab": {
          "base_uri": "https://localhost:8080/"
        },
        "id": "RjDdABVzx0O3",
        "outputId": "5b70276e-027e-49dd-e2e9-c4e276e5b1c0"
      },
      "outputs": [
        {
          "output_type": "execute_result",
          "data": {
            "text/plain": [
              "0    59\n",
              "1    41\n",
              "Name: Sentiments, dtype: int64"
            ]
          },
          "metadata": {},
          "execution_count": 91
        }
      ],
      "source": [
        "data['Sentiments'].value_counts()"
      ]
    },
    {
      "cell_type": "code",
      "execution_count": 92,
      "metadata": {
        "id": "7RqYJ7inx58s"
      },
      "outputs": [],
      "source": [
        "X = data['Feedback']\n",
        "y = data['Sentiments']\n"
      ]
    },
    {
      "cell_type": "markdown",
      "source": [
        "# Data Preprocessing"
      ],
      "metadata": {
        "id": "J5CHSwaZN097"
      }
    },
    {
      "cell_type": "code",
      "execution_count": 93,
      "metadata": {
        "id": "FB_U0TH6ydwm"
      },
      "outputs": [],
      "source": [
        "def preprocess_text(text):\n",
        "\n",
        "  text = text.lower()\n",
        "  text = re.sub(r\"http\\S+|www\\S+|@\\w+|#\\w+\", \"\", text)\n",
        "  text = re.sub(r\"[^\\w\\s]\", \"\", text)\n",
        "  text = re.sub(r'\\b[0-9]+\\b\\s*', '', text)\n",
        "  text = ''.join([char for char in text if char not in string.punctuation])\n",
        "  tokens = word_tokenize(text)\n",
        "  stop_words = set(stopwords.words('english'))\n",
        "  tokens = [token for token in tokens if token not in stop_words]\n",
        "  lemmatizer = WordNetLemmatizer()\n",
        "  tokens = [lemmatizer.lemmatize(token) for token in tokens]\n",
        "  return ' '.join(tokens)\n",
        "\n",
        "X_preprocessed = [preprocess_text(text) for text in X]"
      ]
    },
    {
      "cell_type": "markdown",
      "source": [
        "Model Training using Sklearn.modelselection, train_test_split"
      ],
      "metadata": {
        "id": "kJXzpjIAN6rY"
      }
    },
    {
      "cell_type": "code",
      "execution_count": 94,
      "metadata": {
        "id": "uUM68kww7LHI"
      },
      "outputs": [],
      "source": [
        "X_train, X_test, y_train, y_test = train_test_split(X_preprocessed, y, test_size=0.25)\n"
      ]
    },
    {
      "cell_type": "code",
      "execution_count": 95,
      "metadata": {
        "colab": {
          "base_uri": "https://localhost:8080/"
        },
        "id": "kV9nwxP58PCM",
        "outputId": "d985dd6e-d1f5-461d-e648-64b72415824b"
      },
      "outputs": [
        {
          "output_type": "stream",
          "name": "stdout",
          "text": [
            "(75,) (75,)\n",
            "(25,) (25,)\n"
          ]
        }
      ],
      "source": [
        "X_train, X_test, y_train, y_test = train_test_split(pd.Series(X_preprocessed), y, test_size=0.25)\n",
        "print(X_train.shape, y_train.shape)\n",
        "print(X_test.shape, y_test.shape)"
      ]
    },
    {
      "cell_type": "code",
      "execution_count": 96,
      "metadata": {
        "id": "4zqORWZ38SUS"
      },
      "outputs": [],
      "source": [
        "y_train = tf.keras.utils.to_categorical(y_train, num_classes=2, dtype='float32')\n",
        "y_test = tf.keras.utils.to_categorical(y_test, num_classes=2, dtype='float32')"
      ]
    },
    {
      "cell_type": "code",
      "execution_count": 97,
      "metadata": {
        "id": "Hml1hveC8Wd_"
      },
      "outputs": [],
      "source": [
        "model_name = \"bert_tiny_en_uncased_sst2\"\n",
        "classifier = keras_nlp.models.BertClassifier.from_preset(\n",
        "    model_name,\n",
        "    num_classes=2,\n",
        "    load_weights = True,\n",
        "    activation='sigmoid' # for the binary classification task\n",
        ")"
      ]
    },
    {
      "cell_type": "markdown",
      "source": [
        "# Build the Model"
      ],
      "metadata": {
        "id": "oSxnhagpOKrY"
      }
    },
    {
      "cell_type": "code",
      "execution_count": 98,
      "metadata": {
        "colab": {
          "base_uri": "https://localhost:8080/"
        },
        "id": "ld1F1jGh8alK",
        "outputId": "b885dd3b-72bf-4765-df76-ff6ff609b7ae"
      },
      "outputs": [
        {
          "output_type": "stream",
          "name": "stdout",
          "text": [
            "2/2 [==============================] - 40s 16s/step - loss: 0.4871 - accuracy: 0.8133 - val_loss: 0.4532 - val_accuracy: 0.8000\n"
          ]
        },
        {
          "output_type": "execute_result",
          "data": {
            "text/plain": [
              "<keras.src.callbacks.History at 0x7d22ae7c1930>"
            ]
          },
          "metadata": {},
          "execution_count": 98
        }
      ],
      "source": [
        "classifier.compile(\n",
        "    loss=keras.losses.BinaryCrossentropy(),\n",
        "    optimizer=keras.optimizers.Adam(),\n",
        "    jit_compile=True,\n",
        "     metrics=[\"accuracy\"],\n",
        ")\n",
        "# Access backbone programatically (e.g., to change `trainable`).\n",
        "classifier.backbone.trainable = False\n",
        "# Fit again.\n",
        "classifier.fit(x=X_train, y=y_train, validation_data=(X_test,y_test), batch_size=64)\n"
      ]
    },
    {
      "cell_type": "code",
      "execution_count": 99,
      "metadata": {
        "colab": {
          "base_uri": "https://localhost:8080/"
        },
        "id": "Iazgf-Cj8pU6",
        "outputId": "ccb9f65b-ce96-4b23-a7db-4d7e8009396c"
      },
      "outputs": [
        {
          "output_type": "stream",
          "name": "stdout",
          "text": [
            "1/1 [==============================] - 4s 4s/step\n",
            "He no try at all, didn’t teach well.:➡ negative with a 83.33 percent confidence.\n",
            "\n",
            "Akanni, you are a bad teacher wtf:➡ negative with a 93.23 percent confidence.\n",
            "\n",
            "Little time to learn so much :➡ negative with a 89.32 percent confidence.\n",
            "\n",
            "Ah akanni. God will judge you.:➡ negative with a 89.44 percent confidence.\n",
            "\n",
            "The class is dry but he really puts in efforts:➡ negative with a 90.29 percent confidence.\n",
            "\n",
            "nice course :➡ positive with a 89.96 percent confidence.\n",
            "\n",
            "terrible way of teaching with the I-dont-care attitude:➡ negative with a 93.05 percent confidence.\n",
            "\n",
            "Na me dey make the class funny pass even though the man go do him best make am dry.:➡ positive with a 67.44 percent confidence.\n",
            "\n",
            "practicals were okay for me sha:➡ negative with a 70.96 percent confidence.\n",
            "\n",
            "The course is actually well detailed in the material the lecturer uses. The lecturer is also cool-headed and makes the class interactive albeit boring at times.:➡ negative with a 90.5 percent confidence.\n",
            "\n"
          ]
        }
      ],
      "source": [
        "sentiment_categories = [\"negative\", \"positive\"]\n",
        "\n",
        "new_examples = list(data['Feedback'].sample(10))\n",
        "\n",
        "scores = classifier.predict([preprocess_text(example) for example in new_examples])\n",
        "\n",
        "for i, score in enumerate(scores):\n",
        "    print(f\"{new_examples[i]}:➡ {sentiment_categories[np.argmax(score)]} with a { (100 * np.max(score)).round(2) } percent confidence.\")\n",
        "    print()"
      ]
    },
    {
      "cell_type": "markdown",
      "source": [
        "# Improving the Model Accuracy"
      ],
      "metadata": {
        "id": "pFEUz_0YOTt5"
      }
    },
    {
      "cell_type": "code",
      "execution_count": 102,
      "metadata": {
        "colab": {
          "base_uri": "https://localhost:8080/"
        },
        "id": "e16bEU1u9I2-",
        "outputId": "48c57b61-d067-4a0e-ad97-3ecc68cbc8ba"
      },
      "outputs": [
        {
          "output_type": "stream",
          "name": "stdout",
          "text": [
            "3/3 [==============================] - 10s 4s/step - loss: 0.0970 - accuracy: 0.9867 - val_loss: 0.2113 - val_accuracy: 0.9200 - lr: 0.0010\n"
          ]
        },
        {
          "output_type": "execute_result",
          "data": {
            "text/plain": [
              "<keras.src.callbacks.History at 0x7d22ac283070>"
            ]
          },
          "metadata": {},
          "execution_count": 102
        }
      ],
      "source": [
        "from tensorflow.keras.callbacks import ReduceLROnPlateau\n",
        "\n",
        "# Define a learning rate scheduler\n",
        "lr_scheduler = ReduceLROnPlateau(monitor='val_loss', factor=0.2, patience=3, min_lr=1e-6)\n",
        "\n",
        "# During model fitting\n",
        "classifier.fit(x=X_train, y=y_train, validation_data=(X_test, y_test), batch_size=32, callbacks=[lr_scheduler])"
      ]
    },
    {
      "cell_type": "code",
      "execution_count": 103,
      "metadata": {
        "colab": {
          "base_uri": "https://localhost:8080/"
        },
        "id": "XYNg6Dep99mg",
        "outputId": "31188404-8729-44fc-8a77-613530234b6c"
      },
      "outputs": [
        {
          "output_type": "stream",
          "name": "stdout",
          "text": [
            "1/1 [==============================] - 2s 2s/step - loss: 0.2113 - accuracy: 0.9200\n"
          ]
        },
        {
          "output_type": "execute_result",
          "data": {
            "text/plain": [
              "[0.21128825843334198, 0.9200000166893005]"
            ]
          },
          "metadata": {},
          "execution_count": 103
        }
      ],
      "source": [
        "# evaluate the model on the testing data\n",
        "classifier.evaluate(X_test, y_test,batch_size=32)"
      ]
    },
    {
      "cell_type": "code",
      "execution_count": 104,
      "metadata": {
        "colab": {
          "base_uri": "https://localhost:8080/"
        },
        "id": "1JFjobLG-Xko",
        "outputId": "33b385b1-f8b2-4b74-cfab-dac5ef840f7e"
      },
      "outputs": [
        {
          "output_type": "stream",
          "name": "stdout",
          "text": [
            "1/1 [==============================] - 1s 913ms/step\n",
            "The lecturer is good and his course is also good:➡ positive with a 96.58 percent confidence.\n",
            "\n",
            "Teaching mode is bad but course is sometimes easy to understand:➡ negative with a 96.58 percent confidence.\n",
            "\n",
            "the teaching method is so terrible :➡ negative with a 96.66 percent confidence.\n",
            "\n",
            "love to code and course is about coding. A plus for me:➡ positive with a 96.21 percent confidence.\n",
            "\n",
            "akanni does not know how to teach:➡ negative with a 94.2 percent confidence.\n",
            "\n",
            "Ah akanni. God will judge you.:➡ negative with a 96.4 percent confidence.\n",
            "\n",
            "bad:➡ negative with a 96.61 percent confidence.\n",
            "\n",
            "I struggled at the start but it all went easy as time goes by:➡ positive with a 79.61 percent confidence.\n",
            "\n",
            "Na me dey make the class funny pass even though the man go do him best make am dry.:➡ positive with a 96.48 percent confidence.\n",
            "\n",
            "I no sabi code:➡ negative with a 96.46 percent confidence.\n",
            "\n"
          ]
        }
      ],
      "source": [
        "# checking the model to see performance on new samples\n",
        "sentiment_categories = [\"negative\", \"positive\"]\n",
        "\n",
        "new_examples = list(data['Feedback'].sample(10))\n",
        "\n",
        "scores = classifier.predict([preprocess_text(example) for example in new_examples])\n",
        "\n",
        "for i, score in enumerate(scores):\n",
        "    print(f\"{new_examples[i]}:➡ {sentiment_categories[np.argmax(score)]} with a { (100 * np.max(score)).round(2) } percent confidence.\")\n",
        "    print()"
      ]
    },
    {
      "cell_type": "markdown",
      "source": [
        "# Finetune BERT with User-Controlled Preprocessing"
      ],
      "metadata": {
        "id": "OAUgTF8aOZ14"
      }
    },
    {
      "cell_type": "code",
      "source": [
        "preprocessor = keras_nlp.models.BertPreprocessor.from_preset(\n",
        "    model_name,\n",
        "    sequence_length=128,\n",
        ")"
      ],
      "metadata": {
        "id": "jtCw9z_yJKrv"
      },
      "execution_count": 105,
      "outputs": []
    },
    {
      "cell_type": "code",
      "source": [
        "training_data = tf.data.Dataset.from_tensor_slices(([X_train], [y_train]))\n",
        "validation_data = tf.data.Dataset.from_tensor_slices(([X_test], [y_test]))\n",
        "\n",
        "train_cached = (\n",
        "    training_data.map(preprocessor, tf.data.AUTOTUNE).cache().prefetch(tf.data.AUTOTUNE)\n",
        ")\n",
        "test_cached = (\n",
        "    validation_data.map(preprocessor, tf.data.AUTOTUNE).cache().prefetch(tf.data.AUTOTUNE)\n",
        ")"
      ],
      "metadata": {
        "id": "3GL7mVvHJRbl"
      },
      "execution_count": 106,
      "outputs": []
    },
    {
      "cell_type": "code",
      "source": [
        "# Pretrained classifier.\n",
        "classifier2 = keras_nlp.models.BertClassifier.from_preset(\n",
        "    model_name,\n",
        "    preprocessor=None,\n",
        "    num_classes=2,\n",
        "    load_weights = True,\n",
        "    activation='sigmoid'\n",
        ")\n",
        "classifier2.compile(\n",
        "    loss=keras.losses.BinaryCrossentropy(from_logits=False),\n",
        "    optimizer=keras.optimizers.Adam(),\n",
        "    jit_compile=True,\n",
        "     metrics=[\"accuracy\"],\n",
        ")\n",
        "classifier2.fit(train_cached, validation_data=test_cached,epochs=5)"
      ],
      "metadata": {
        "colab": {
          "base_uri": "https://localhost:8080/"
        },
        "id": "6oQ9p7ZHJVqX",
        "outputId": "8d76c773-a63b-4125-a720-3cada8b948dc"
      },
      "execution_count": 108,
      "outputs": [
        {
          "output_type": "stream",
          "name": "stdout",
          "text": [
            "Epoch 1/5\n",
            "1/1 [==============================] - 19s 19s/step - loss: 0.4860 - accuracy: 0.7867 - val_loss: 0.5006 - val_accuracy: 0.8000\n",
            "Epoch 2/5\n",
            "1/1 [==============================] - 2s 2s/step - loss: 0.3865 - accuracy: 0.8133 - val_loss: 0.4315 - val_accuracy: 0.8000\n",
            "Epoch 3/5\n",
            "1/1 [==============================] - 1s 1s/step - loss: 0.2850 - accuracy: 0.8933 - val_loss: 0.4045 - val_accuracy: 0.8400\n",
            "Epoch 4/5\n",
            "1/1 [==============================] - 1s 1s/step - loss: 0.1736 - accuracy: 0.9867 - val_loss: 0.4521 - val_accuracy: 0.8400\n",
            "Epoch 5/5\n",
            "1/1 [==============================] - 1s 1s/step - loss: 0.1458 - accuracy: 0.9600 - val_loss: 0.4555 - val_accuracy: 0.8400\n"
          ]
        },
        {
          "output_type": "execute_result",
          "data": {
            "text/plain": [
              "<keras.src.callbacks.History at 0x7d22ac389750>"
            ]
          },
          "metadata": {},
          "execution_count": 108
        }
      ]
    },
    {
      "cell_type": "markdown",
      "source": [
        "# Try with own example"
      ],
      "metadata": {
        "id": "KRxZQ9atOiZA"
      }
    },
    {
      "cell_type": "code",
      "source": [
        "# checking the model to see performance on new samples\n",
        "sentiment_categories = [\"negative\", \"positive\"]\n",
        "#list(data['Feedback'].sample(1))\n",
        "#new_examples = list(data['Feedback'].sample(1))\n",
        "\n",
        "#print(list(data['Feedback'].sample(1)))\n",
        "\n",
        "new_examples = ['Sir has prior knowledge about ML, but students knowledge cannot process with his thought']\n",
        "\n",
        "#print(arr)\n",
        "\n",
        "test_data =  preprocessor([preprocess_text(example) for example in new_examples])\n",
        "scores = classifier2.predict(test_data)\n",
        "\n",
        "for i, score in enumerate(scores):\n",
        "    print(f\"{new_examples[i]}:➡ {sentiment_categories[np.argmax(score)]} with a { (100 * np.max(score)).round(2) } percent confidence.\")\n",
        "    print()"
      ],
      "metadata": {
        "colab": {
          "base_uri": "https://localhost:8080/"
        },
        "id": "crxc0SlgJc_t",
        "outputId": "fd4de6da-1990-4e3c-cc00-1185ddcb648f"
      },
      "execution_count": 136,
      "outputs": [
        {
          "output_type": "stream",
          "name": "stdout",
          "text": [
            "1/1 [==============================] - 0s 43ms/step\n",
            "Sir has prior knowledge about ML, but students knowledge cannot process with his thought:➡ negative with a 94.52 percent confidence.\n",
            "\n"
          ]
        }
      ]
    }
  ],
  "metadata": {
    "colab": {
      "provenance": []
    },
    "kernelspec": {
      "display_name": "Python 3",
      "name": "python3"
    },
    "language_info": {
      "name": "python"
    }
  },
  "nbformat": 4,
  "nbformat_minor": 0
}